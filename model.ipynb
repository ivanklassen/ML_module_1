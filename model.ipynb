{
 "cells": [
  {
   "cell_type": "code",
   "execution_count": 469,
   "metadata": {},
   "outputs": [],
   "source": [
    "import numpy as np\n",
    "import pandas as pd\n",
    "import time\n",
    "from sklearn.model_selection import StratifiedKFold\n",
    "from sklearn.metrics import accuracy_score\n",
    "from sklearn.preprocessing import StandardScaler, OneHotEncoder\n",
    "from sklearn.compose import ColumnTransformer\n",
    "from lightgbm import LGBMClassifier\n",
    "import matplotlib.pyplot as plt\n",
    "import seaborn as sns"
   ]
  },
  {
   "cell_type": "code",
   "execution_count": 521,
   "metadata": {},
   "outputs": [],
   "source": [
    "train = pd.read_csv(\"train.csv\")\n",
    "test = pd.read_csv(\"test.csv\")"
   ]
  },
  {
   "cell_type": "code",
   "execution_count": 522,
   "metadata": {},
   "outputs": [],
   "source": [
    "train_y = train[[\"Transported\"]].astype(int)\n",
    "test_y = test[[\"PassengerId\"]]"
   ]
  },
  {
   "cell_type": "code",
   "execution_count": null,
   "metadata": {},
   "outputs": [],
   "source": [
    "# train['Group'] = train['PassengerId'].apply(lambda x: x.split('_')[0])\n",
    "\n",
    "# def extract_last_name(name):\n",
    "#     if isinstance(name, str):\n",
    "#         return name.split(' ')[-1].strip()\n",
    "#     else:\n",
    "#         return None\n",
    "\n",
    "# train['LastName'] = train['Name'].apply(extract_last_name)\n",
    "\n",
    "# def get_family_size(row):\n",
    "#     group = row['Group']\n",
    "#     lastName = row['LastName']\n",
    "#     family_size = len(train[(train['Group'] == group) & (train['LastName'] == lastName)])\n",
    "#     return family_size\n",
    "\n",
    "# train['FamilySize'] = train.apply(get_family_size, axis=1)\n",
    "# train['Alone'] = train['FamilySize'].apply(lambda x: 1 if x == 1 else 0)\n",
    "# train = train.drop(['Group', 'LastName'], axis=1)"
   ]
  },
  {
   "cell_type": "code",
   "execution_count": null,
   "metadata": {},
   "outputs": [],
   "source": [
    "# test['Group'] = test['PassengerId'].apply(lambda x: x.split('_')[0])\n",
    "# test['LastName'] = test['Name'].apply(extract_last_name)\n",
    "\n",
    "# def get_family_size_test(row):\n",
    "#     group = row['Group']\n",
    "#     lastName = row['LastName']\n",
    "#     family_size = len(test[(test['Group'] == group) & (test['LastName'] == lastName)])\n",
    "#     return family_size\n",
    "\n",
    "# test['FamilySize'] = test.apply(get_family_size_test, axis=1)\n",
    "# test['Alone'] = test['FamilySize'].apply(lambda x: 1 if x == 1 else 0)\n",
    "# test = test.drop(['Group', 'LastName'], axis=1)"
   ]
  },
  {
   "cell_type": "code",
   "execution_count": null,
   "metadata": {},
   "outputs": [],
   "source": [
    "\n",
    "train['Group'] = train['PassengerId'].apply(lambda x: x.split('_')[0])\n",
    "train['GroupSize'] = train.groupby('Group')['PassengerId'].transform('count')\n",
    "train = train.drop('Group', axis=1)\n",
    "\n",
    "test['Group'] = test['PassengerId'].apply(lambda x: x.split('_')[0])\n",
    "test['GroupSize'] = test.groupby('Group')['PassengerId'].transform('count')\n",
    "test = test.drop('Group', axis=1)\n",
    "\n",
    "def get_cabin_side(cabin):\n",
    "    if pd.isna(cabin):  \n",
    "        return None  \n",
    "    side = cabin.split('/')[-1]\n",
    "    if side == 'P':\n",
    "        return 0\n",
    "    elif side == 'S':\n",
    "        return 1\n",
    "    else:\n",
    "        return None\n",
    "\n",
    "train['CabinSide'] = train['Cabin'].apply(get_cabin_side)\n",
    "test['CabinSide'] = test['Cabin'].apply(get_cabin_side)\n",
    "\n",
    "def get_cabin_deck(cabin):\n",
    "    if pd.isna(cabin): \n",
    "        return None \n",
    "    try:\n",
    "        # deck = cabin.split('/')[0]\n",
    "        # return deck\n",
    "        parts = cabin.split('/')\n",
    "        return f\"{parts[0]}/{parts[1]}\"\n",
    "    except:\n",
    "        return None\n",
    "\n",
    "train['CabinDeck'] = train['Cabin'].apply(get_cabin_deck)\n",
    "test['CabinDeck'] = test['Cabin'].apply(get_cabin_deck)\n",
    "\n"
   ]
  },
  {
   "cell_type": "code",
   "execution_count": 526,
   "metadata": {},
   "outputs": [],
   "source": [
    "train['VIP'] = train['VIP'].fillna(0)\n",
    "train[\"VIP\"] = train[\"VIP\"].astype(int)\n",
    "\n",
    "train['CryoSleep'] = train['CryoSleep'].fillna(0)\n",
    "train[\"CryoSleep\"] = train[\"CryoSleep\"].astype(int)\n",
    "\n",
    "test['VIP'] = test['VIP'].fillna(0)\n",
    "test[\"VIP\"] = test[\"VIP\"].astype(int)\n",
    "\n",
    "test['CryoSleep'] = test['CryoSleep'].fillna(0)\n",
    "test[\"CryoSleep\"] = test[\"CryoSleep\"].astype(int)\n",
    "\n",
    "# train['RoomService'] = train['RoomService'].fillna(0.0)\n",
    "# train['FoodCourt'] = train['FoodCourt'].fillna(0.0)\n",
    "# train['ShoppingMall'] = train['ShoppingMall'].fillna(0.0)\n",
    "# train['Spa'] = train['Spa'].fillna(0.0)\n",
    "# train['VRDeck'] = train['VRDeck'].fillna(0.0)\n",
    "\n",
    "train = train.drop(columns=[\"Name\"])\n",
    "train = train.drop(columns=[\"PassengerId\"])\n",
    "train = train.drop(columns=[\"Transported\"])\n",
    "\n",
    "test = test.drop(columns=[\"Name\"])\n",
    "test = test.drop(columns=[\"PassengerId\"])\n",
    "\n",
    "train = train.drop(columns=[\"Cabin\"])\n",
    "test = test.drop(columns=[\"Cabin\"])\n",
    "\n"
   ]
  },
  {
   "cell_type": "code",
   "execution_count": 527,
   "metadata": {},
   "outputs": [],
   "source": [
    "train[[\"RoomService_log\"]] = np.log10(1 + train[[\"RoomService\"]])\n",
    "train[[\"FoodCourt_log\"]] = np.log10(1 + train[[\"FoodCourt\"]])\n",
    "train[[\"ShoppingMall_log\"]] = np.log10(1 + train[[\"ShoppingMall\"]])\n",
    "train[[\"Spa_log\"]] = np.log10(1 + train[[\"Spa\"]])\n",
    "train[[\"VRDeck_log\"]] = np.log10(1 + train[[\"VRDeck\"]])\n",
    "\n",
    "test[[\"RoomService_log\"]] = np.log10(1 + test[[\"RoomService\"]])\n",
    "test[[\"FoodCourt_log\"]] = np.log10(1 + test[[\"FoodCourt\"]])\n",
    "test[[\"ShoppingMall_log\"]] = np.log10(1 + test[[\"ShoppingMall\"]])\n",
    "test[[\"Spa_log\"]] = np.log10(1 + test[[\"Spa\"]])\n",
    "test[[\"VRDeck_log\"]] = np.log10(1 + test[[\"VRDeck\"]])\n",
    "\n",
    "train = train.drop(columns=[\"RoomService\"])\n",
    "train = train.drop(columns=[\"FoodCourt\"])\n",
    "train = train.drop(columns=[\"ShoppingMall\"])\n",
    "train = train.drop(columns=[\"Spa\"])\n",
    "train = train.drop(columns=[\"VRDeck\"])\n",
    "\n",
    "test = test.drop(columns=[\"RoomService\"])\n",
    "test = test.drop(columns=[\"FoodCourt\"])\n",
    "test = test.drop(columns=[\"ShoppingMall\"])\n",
    "test = test.drop(columns=[\"Spa\"])\n",
    "test = test.drop(columns=[\"VRDeck\"])\n",
    "\n",
    "\n"
   ]
  },
  {
   "cell_type": "code",
   "execution_count": 528,
   "metadata": {},
   "outputs": [],
   "source": [
    "num_cols = [cname for cname in train.columns if train[cname].dtype in [\"int64\", \"float64\"]]\n",
    "cat_cols = [cname for cname in train.columns if train[cname].dtype == \"object\"]"
   ]
  },
  {
   "cell_type": "code",
   "execution_count": 529,
   "metadata": {},
   "outputs": [],
   "source": [
    "from sklearn.pipeline import Pipeline\n",
    "num_transformer = Pipeline(steps=[(\"scaler\", StandardScaler())])\n",
    "\n",
    "cat_transformer = Pipeline(\n",
    "    steps=[\n",
    "        (\n",
    "            \"onehot\",\n",
    "            OneHotEncoder(drop='if_binary', handle_unknown=\"ignore\")\n",
    "        )\n",
    "    ]\n",
    ")"
   ]
  },
  {
   "cell_type": "code",
   "execution_count": 530,
   "metadata": {},
   "outputs": [],
   "source": [
    "ct = ColumnTransformer(\n",
    "    transformers = [\n",
    "        (\"num\", num_transformer, num_cols),\n",
    "        (\"cat\", cat_transformer, cat_cols),\n",
    "    ],\n",
    "    remainder=\"passthrough\"\n",
    ")"
   ]
  },
  {
   "cell_type": "code",
   "execution_count": 531,
   "metadata": {},
   "outputs": [],
   "source": [
    "train = ct.fit_transform(train)\n",
    "test = ct.fit_transform(test)\n",
    "\n",
    "# combined_transformed = ct.fit_transform(combined)\n",
    "\n",
    "# train = combined_transformed[:train_len]\n",
    "# test = combined_transformed[train_len:]\n"
   ]
  },
  {
   "cell_type": "code",
   "execution_count": 532,
   "metadata": {},
   "outputs": [
    {
     "name": "stdout",
     "output_type": "stream",
     "text": [
      "(8693, 29) (4277, 29)\n"
     ]
    }
   ],
   "source": [
    "print(train.shape, test.shape)"
   ]
  },
  {
   "cell_type": "code",
   "execution_count": 533,
   "metadata": {},
   "outputs": [],
   "source": [
    "classifiers = {\n",
    "    \"LGBM\": LGBMClassifier(\n",
    "        learning_rate=0.01, max_depth=8, n_estimators=500, random_state=0, num_leaves=31\n",
    "    ),\n",
    "}"
   ]
  },
  {
   "cell_type": "code",
   "execution_count": 534,
   "metadata": {},
   "outputs": [],
   "source": [
    "\n",
    "FOLDS = 10\n",
    "y = train_y.values"
   ]
  },
  {
   "cell_type": "code",
   "execution_count": 535,
   "metadata": {},
   "outputs": [],
   "source": [
    "preds = np.zeros(test.shape[0])\n",
    "preds_train = np.zeros(train.shape[0])"
   ]
  },
  {
   "cell_type": "code",
   "execution_count": 536,
   "metadata": {},
   "outputs": [
    {
     "name": "stderr",
     "output_type": "stream",
     "text": [
      "c:\\Users\\ivank\\OneDrive\\Desktop\\ml\\.venv\\Lib\\site-packages\\sklearn\\preprocessing\\_label.py:93: DataConversionWarning: A column-vector y was passed when a 1d array was expected. Please change the shape of y to (n_samples, ), for example using ravel().\n",
      "  y = column_or_1d(y, warn=True)\n",
      "c:\\Users\\ivank\\OneDrive\\Desktop\\ml\\.venv\\Lib\\site-packages\\sklearn\\preprocessing\\_label.py:129: DataConversionWarning: A column-vector y was passed when a 1d array was expected. Please change the shape of y to (n_samples, ), for example using ravel().\n",
      "  y = column_or_1d(y, dtype=self.classes_.dtype, warn=True)\n",
      "c:\\Users\\ivank\\OneDrive\\Desktop\\ml\\.venv\\Lib\\site-packages\\sklearn\\utils\\validation.py:2739: UserWarning: X does not have valid feature names, but LGBMClassifier was fitted with feature names\n",
      "  warnings.warn(\n",
      "c:\\Users\\ivank\\OneDrive\\Desktop\\ml\\.venv\\Lib\\site-packages\\sklearn\\utils\\validation.py:2739: UserWarning: X does not have valid feature names, but LGBMClassifier was fitted with feature names\n",
      "  warnings.warn(\n",
      "c:\\Users\\ivank\\OneDrive\\Desktop\\ml\\.venv\\Lib\\site-packages\\sklearn\\utils\\validation.py:2739: UserWarning: X does not have valid feature names, but LGBMClassifier was fitted with feature names\n",
      "  warnings.warn(\n",
      "c:\\Users\\ivank\\OneDrive\\Desktop\\ml\\.venv\\Lib\\site-packages\\sklearn\\utils\\validation.py:2739: UserWarning: X does not have valid feature names, but LGBMClassifier was fitted with feature names\n",
      "  warnings.warn(\n",
      "c:\\Users\\ivank\\OneDrive\\Desktop\\ml\\.venv\\Lib\\site-packages\\sklearn\\preprocessing\\_label.py:93: DataConversionWarning: A column-vector y was passed when a 1d array was expected. Please change the shape of y to (n_samples, ), for example using ravel().\n",
      "  y = column_or_1d(y, warn=True)\n",
      "c:\\Users\\ivank\\OneDrive\\Desktop\\ml\\.venv\\Lib\\site-packages\\sklearn\\preprocessing\\_label.py:129: DataConversionWarning: A column-vector y was passed when a 1d array was expected. Please change the shape of y to (n_samples, ), for example using ravel().\n",
      "  y = column_or_1d(y, dtype=self.classes_.dtype, warn=True)\n"
     ]
    },
    {
     "name": "stdout",
     "output_type": "stream",
     "text": [
      "Average infold validation accuracy:  LGBM 0 80.46\n"
     ]
    },
    {
     "name": "stderr",
     "output_type": "stream",
     "text": [
      "c:\\Users\\ivank\\OneDrive\\Desktop\\ml\\.venv\\Lib\\site-packages\\sklearn\\utils\\validation.py:2739: UserWarning: X does not have valid feature names, but LGBMClassifier was fitted with feature names\n",
      "  warnings.warn(\n",
      "c:\\Users\\ivank\\OneDrive\\Desktop\\ml\\.venv\\Lib\\site-packages\\sklearn\\utils\\validation.py:2739: UserWarning: X does not have valid feature names, but LGBMClassifier was fitted with feature names\n",
      "  warnings.warn(\n",
      "c:\\Users\\ivank\\OneDrive\\Desktop\\ml\\.venv\\Lib\\site-packages\\sklearn\\utils\\validation.py:2739: UserWarning: X does not have valid feature names, but LGBMClassifier was fitted with feature names\n",
      "  warnings.warn(\n",
      "c:\\Users\\ivank\\OneDrive\\Desktop\\ml\\.venv\\Lib\\site-packages\\sklearn\\utils\\validation.py:2739: UserWarning: X does not have valid feature names, but LGBMClassifier was fitted with feature names\n",
      "  warnings.warn(\n",
      "c:\\Users\\ivank\\OneDrive\\Desktop\\ml\\.venv\\Lib\\site-packages\\sklearn\\preprocessing\\_label.py:93: DataConversionWarning: A column-vector y was passed when a 1d array was expected. Please change the shape of y to (n_samples, ), for example using ravel().\n",
      "  y = column_or_1d(y, warn=True)\n",
      "c:\\Users\\ivank\\OneDrive\\Desktop\\ml\\.venv\\Lib\\site-packages\\sklearn\\preprocessing\\_label.py:129: DataConversionWarning: A column-vector y was passed when a 1d array was expected. Please change the shape of y to (n_samples, ), for example using ravel().\n",
      "  y = column_or_1d(y, dtype=self.classes_.dtype, warn=True)\n"
     ]
    },
    {
     "name": "stdout",
     "output_type": "stream",
     "text": [
      "Average infold validation accuracy:  LGBM 1 80.0\n"
     ]
    },
    {
     "name": "stderr",
     "output_type": "stream",
     "text": [
      "c:\\Users\\ivank\\OneDrive\\Desktop\\ml\\.venv\\Lib\\site-packages\\sklearn\\utils\\validation.py:2739: UserWarning: X does not have valid feature names, but LGBMClassifier was fitted with feature names\n",
      "  warnings.warn(\n",
      "c:\\Users\\ivank\\OneDrive\\Desktop\\ml\\.venv\\Lib\\site-packages\\sklearn\\utils\\validation.py:2739: UserWarning: X does not have valid feature names, but LGBMClassifier was fitted with feature names\n",
      "  warnings.warn(\n",
      "c:\\Users\\ivank\\OneDrive\\Desktop\\ml\\.venv\\Lib\\site-packages\\sklearn\\utils\\validation.py:2739: UserWarning: X does not have valid feature names, but LGBMClassifier was fitted with feature names\n",
      "  warnings.warn(\n",
      "c:\\Users\\ivank\\OneDrive\\Desktop\\ml\\.venv\\Lib\\site-packages\\sklearn\\utils\\validation.py:2739: UserWarning: X does not have valid feature names, but LGBMClassifier was fitted with feature names\n",
      "  warnings.warn(\n",
      "c:\\Users\\ivank\\OneDrive\\Desktop\\ml\\.venv\\Lib\\site-packages\\sklearn\\preprocessing\\_label.py:93: DataConversionWarning: A column-vector y was passed when a 1d array was expected. Please change the shape of y to (n_samples, ), for example using ravel().\n",
      "  y = column_or_1d(y, warn=True)\n",
      "c:\\Users\\ivank\\OneDrive\\Desktop\\ml\\.venv\\Lib\\site-packages\\sklearn\\preprocessing\\_label.py:129: DataConversionWarning: A column-vector y was passed when a 1d array was expected. Please change the shape of y to (n_samples, ), for example using ravel().\n",
      "  y = column_or_1d(y, dtype=self.classes_.dtype, warn=True)\n"
     ]
    },
    {
     "name": "stdout",
     "output_type": "stream",
     "text": [
      "Average infold validation accuracy:  LGBM 2 81.38\n"
     ]
    },
    {
     "name": "stderr",
     "output_type": "stream",
     "text": [
      "c:\\Users\\ivank\\OneDrive\\Desktop\\ml\\.venv\\Lib\\site-packages\\sklearn\\utils\\validation.py:2739: UserWarning: X does not have valid feature names, but LGBMClassifier was fitted with feature names\n",
      "  warnings.warn(\n",
      "c:\\Users\\ivank\\OneDrive\\Desktop\\ml\\.venv\\Lib\\site-packages\\sklearn\\utils\\validation.py:2739: UserWarning: X does not have valid feature names, but LGBMClassifier was fitted with feature names\n",
      "  warnings.warn(\n",
      "c:\\Users\\ivank\\OneDrive\\Desktop\\ml\\.venv\\Lib\\site-packages\\sklearn\\utils\\validation.py:2739: UserWarning: X does not have valid feature names, but LGBMClassifier was fitted with feature names\n",
      "  warnings.warn(\n",
      "c:\\Users\\ivank\\OneDrive\\Desktop\\ml\\.venv\\Lib\\site-packages\\sklearn\\utils\\validation.py:2739: UserWarning: X does not have valid feature names, but LGBMClassifier was fitted with feature names\n",
      "  warnings.warn(\n",
      "c:\\Users\\ivank\\OneDrive\\Desktop\\ml\\.venv\\Lib\\site-packages\\sklearn\\preprocessing\\_label.py:93: DataConversionWarning: A column-vector y was passed when a 1d array was expected. Please change the shape of y to (n_samples, ), for example using ravel().\n",
      "  y = column_or_1d(y, warn=True)\n",
      "c:\\Users\\ivank\\OneDrive\\Desktop\\ml\\.venv\\Lib\\site-packages\\sklearn\\preprocessing\\_label.py:129: DataConversionWarning: A column-vector y was passed when a 1d array was expected. Please change the shape of y to (n_samples, ), for example using ravel().\n",
      "  y = column_or_1d(y, dtype=self.classes_.dtype, warn=True)\n"
     ]
    },
    {
     "name": "stdout",
     "output_type": "stream",
     "text": [
      "Average infold validation accuracy:  LGBM 3 79.06\n"
     ]
    },
    {
     "name": "stderr",
     "output_type": "stream",
     "text": [
      "c:\\Users\\ivank\\OneDrive\\Desktop\\ml\\.venv\\Lib\\site-packages\\sklearn\\utils\\validation.py:2739: UserWarning: X does not have valid feature names, but LGBMClassifier was fitted with feature names\n",
      "  warnings.warn(\n",
      "c:\\Users\\ivank\\OneDrive\\Desktop\\ml\\.venv\\Lib\\site-packages\\sklearn\\utils\\validation.py:2739: UserWarning: X does not have valid feature names, but LGBMClassifier was fitted with feature names\n",
      "  warnings.warn(\n",
      "c:\\Users\\ivank\\OneDrive\\Desktop\\ml\\.venv\\Lib\\site-packages\\sklearn\\utils\\validation.py:2739: UserWarning: X does not have valid feature names, but LGBMClassifier was fitted with feature names\n",
      "  warnings.warn(\n",
      "c:\\Users\\ivank\\OneDrive\\Desktop\\ml\\.venv\\Lib\\site-packages\\sklearn\\utils\\validation.py:2739: UserWarning: X does not have valid feature names, but LGBMClassifier was fitted with feature names\n",
      "  warnings.warn(\n",
      "c:\\Users\\ivank\\OneDrive\\Desktop\\ml\\.venv\\Lib\\site-packages\\sklearn\\preprocessing\\_label.py:93: DataConversionWarning: A column-vector y was passed when a 1d array was expected. Please change the shape of y to (n_samples, ), for example using ravel().\n",
      "  y = column_or_1d(y, warn=True)\n",
      "c:\\Users\\ivank\\OneDrive\\Desktop\\ml\\.venv\\Lib\\site-packages\\sklearn\\preprocessing\\_label.py:129: DataConversionWarning: A column-vector y was passed when a 1d array was expected. Please change the shape of y to (n_samples, ), for example using ravel().\n",
      "  y = column_or_1d(y, dtype=self.classes_.dtype, warn=True)\n"
     ]
    },
    {
     "name": "stdout",
     "output_type": "stream",
     "text": [
      "Average infold validation accuracy:  LGBM 4 81.47\n"
     ]
    },
    {
     "name": "stderr",
     "output_type": "stream",
     "text": [
      "c:\\Users\\ivank\\OneDrive\\Desktop\\ml\\.venv\\Lib\\site-packages\\sklearn\\utils\\validation.py:2739: UserWarning: X does not have valid feature names, but LGBMClassifier was fitted with feature names\n",
      "  warnings.warn(\n",
      "c:\\Users\\ivank\\OneDrive\\Desktop\\ml\\.venv\\Lib\\site-packages\\sklearn\\utils\\validation.py:2739: UserWarning: X does not have valid feature names, but LGBMClassifier was fitted with feature names\n",
      "  warnings.warn(\n",
      "c:\\Users\\ivank\\OneDrive\\Desktop\\ml\\.venv\\Lib\\site-packages\\sklearn\\utils\\validation.py:2739: UserWarning: X does not have valid feature names, but LGBMClassifier was fitted with feature names\n",
      "  warnings.warn(\n",
      "c:\\Users\\ivank\\OneDrive\\Desktop\\ml\\.venv\\Lib\\site-packages\\sklearn\\utils\\validation.py:2739: UserWarning: X does not have valid feature names, but LGBMClassifier was fitted with feature names\n",
      "  warnings.warn(\n",
      "c:\\Users\\ivank\\OneDrive\\Desktop\\ml\\.venv\\Lib\\site-packages\\sklearn\\preprocessing\\_label.py:93: DataConversionWarning: A column-vector y was passed when a 1d array was expected. Please change the shape of y to (n_samples, ), for example using ravel().\n",
      "  y = column_or_1d(y, warn=True)\n",
      "c:\\Users\\ivank\\OneDrive\\Desktop\\ml\\.venv\\Lib\\site-packages\\sklearn\\preprocessing\\_label.py:129: DataConversionWarning: A column-vector y was passed when a 1d array was expected. Please change the shape of y to (n_samples, ), for example using ravel().\n",
      "  y = column_or_1d(y, dtype=self.classes_.dtype, warn=True)\n"
     ]
    },
    {
     "name": "stdout",
     "output_type": "stream",
     "text": [
      "Average infold validation accuracy:  LGBM 5 80.78\n"
     ]
    },
    {
     "name": "stderr",
     "output_type": "stream",
     "text": [
      "c:\\Users\\ivank\\OneDrive\\Desktop\\ml\\.venv\\Lib\\site-packages\\sklearn\\utils\\validation.py:2739: UserWarning: X does not have valid feature names, but LGBMClassifier was fitted with feature names\n",
      "  warnings.warn(\n",
      "c:\\Users\\ivank\\OneDrive\\Desktop\\ml\\.venv\\Lib\\site-packages\\sklearn\\utils\\validation.py:2739: UserWarning: X does not have valid feature names, but LGBMClassifier was fitted with feature names\n",
      "  warnings.warn(\n",
      "c:\\Users\\ivank\\OneDrive\\Desktop\\ml\\.venv\\Lib\\site-packages\\sklearn\\utils\\validation.py:2739: UserWarning: X does not have valid feature names, but LGBMClassifier was fitted with feature names\n",
      "  warnings.warn(\n",
      "c:\\Users\\ivank\\OneDrive\\Desktop\\ml\\.venv\\Lib\\site-packages\\sklearn\\utils\\validation.py:2739: UserWarning: X does not have valid feature names, but LGBMClassifier was fitted with feature names\n",
      "  warnings.warn(\n",
      "c:\\Users\\ivank\\OneDrive\\Desktop\\ml\\.venv\\Lib\\site-packages\\sklearn\\preprocessing\\_label.py:93: DataConversionWarning: A column-vector y was passed when a 1d array was expected. Please change the shape of y to (n_samples, ), for example using ravel().\n",
      "  y = column_or_1d(y, warn=True)\n",
      "c:\\Users\\ivank\\OneDrive\\Desktop\\ml\\.venv\\Lib\\site-packages\\sklearn\\preprocessing\\_label.py:129: DataConversionWarning: A column-vector y was passed when a 1d array was expected. Please change the shape of y to (n_samples, ), for example using ravel().\n",
      "  y = column_or_1d(y, dtype=self.classes_.dtype, warn=True)\n"
     ]
    },
    {
     "name": "stdout",
     "output_type": "stream",
     "text": [
      "Average infold validation accuracy:  LGBM 6 80.9\n"
     ]
    },
    {
     "name": "stderr",
     "output_type": "stream",
     "text": [
      "c:\\Users\\ivank\\OneDrive\\Desktop\\ml\\.venv\\Lib\\site-packages\\sklearn\\utils\\validation.py:2739: UserWarning: X does not have valid feature names, but LGBMClassifier was fitted with feature names\n",
      "  warnings.warn(\n",
      "c:\\Users\\ivank\\OneDrive\\Desktop\\ml\\.venv\\Lib\\site-packages\\sklearn\\utils\\validation.py:2739: UserWarning: X does not have valid feature names, but LGBMClassifier was fitted with feature names\n",
      "  warnings.warn(\n",
      "c:\\Users\\ivank\\OneDrive\\Desktop\\ml\\.venv\\Lib\\site-packages\\sklearn\\utils\\validation.py:2739: UserWarning: X does not have valid feature names, but LGBMClassifier was fitted with feature names\n",
      "  warnings.warn(\n",
      "c:\\Users\\ivank\\OneDrive\\Desktop\\ml\\.venv\\Lib\\site-packages\\sklearn\\utils\\validation.py:2739: UserWarning: X does not have valid feature names, but LGBMClassifier was fitted with feature names\n",
      "  warnings.warn(\n",
      "c:\\Users\\ivank\\OneDrive\\Desktop\\ml\\.venv\\Lib\\site-packages\\sklearn\\preprocessing\\_label.py:93: DataConversionWarning: A column-vector y was passed when a 1d array was expected. Please change the shape of y to (n_samples, ), for example using ravel().\n",
      "  y = column_or_1d(y, warn=True)\n",
      "c:\\Users\\ivank\\OneDrive\\Desktop\\ml\\.venv\\Lib\\site-packages\\sklearn\\preprocessing\\_label.py:129: DataConversionWarning: A column-vector y was passed when a 1d array was expected. Please change the shape of y to (n_samples, ), for example using ravel().\n",
      "  y = column_or_1d(y, dtype=self.classes_.dtype, warn=True)\n"
     ]
    },
    {
     "name": "stdout",
     "output_type": "stream",
     "text": [
      "Average infold validation accuracy:  LGBM 7 78.94\n"
     ]
    },
    {
     "name": "stderr",
     "output_type": "stream",
     "text": [
      "c:\\Users\\ivank\\OneDrive\\Desktop\\ml\\.venv\\Lib\\site-packages\\sklearn\\utils\\validation.py:2739: UserWarning: X does not have valid feature names, but LGBMClassifier was fitted with feature names\n",
      "  warnings.warn(\n",
      "c:\\Users\\ivank\\OneDrive\\Desktop\\ml\\.venv\\Lib\\site-packages\\sklearn\\utils\\validation.py:2739: UserWarning: X does not have valid feature names, but LGBMClassifier was fitted with feature names\n",
      "  warnings.warn(\n",
      "c:\\Users\\ivank\\OneDrive\\Desktop\\ml\\.venv\\Lib\\site-packages\\sklearn\\utils\\validation.py:2739: UserWarning: X does not have valid feature names, but LGBMClassifier was fitted with feature names\n",
      "  warnings.warn(\n",
      "c:\\Users\\ivank\\OneDrive\\Desktop\\ml\\.venv\\Lib\\site-packages\\sklearn\\utils\\validation.py:2739: UserWarning: X does not have valid feature names, but LGBMClassifier was fitted with feature names\n",
      "  warnings.warn(\n",
      "c:\\Users\\ivank\\OneDrive\\Desktop\\ml\\.venv\\Lib\\site-packages\\sklearn\\preprocessing\\_label.py:93: DataConversionWarning: A column-vector y was passed when a 1d array was expected. Please change the shape of y to (n_samples, ), for example using ravel().\n",
      "  y = column_or_1d(y, warn=True)\n",
      "c:\\Users\\ivank\\OneDrive\\Desktop\\ml\\.venv\\Lib\\site-packages\\sklearn\\preprocessing\\_label.py:129: DataConversionWarning: A column-vector y was passed when a 1d array was expected. Please change the shape of y to (n_samples, ), for example using ravel().\n",
      "  y = column_or_1d(y, dtype=self.classes_.dtype, warn=True)\n"
     ]
    },
    {
     "name": "stdout",
     "output_type": "stream",
     "text": [
      "Average infold validation accuracy:  LGBM 8 81.01\n",
      "Average infold validation accuracy:  LGBM 9 79.75\n",
      "80.37\n",
      "0.1 2\n"
     ]
    },
    {
     "name": "stderr",
     "output_type": "stream",
     "text": [
      "c:\\Users\\ivank\\OneDrive\\Desktop\\ml\\.venv\\Lib\\site-packages\\sklearn\\utils\\validation.py:2739: UserWarning: X does not have valid feature names, but LGBMClassifier was fitted with feature names\n",
      "  warnings.warn(\n",
      "c:\\Users\\ivank\\OneDrive\\Desktop\\ml\\.venv\\Lib\\site-packages\\sklearn\\utils\\validation.py:2739: UserWarning: X does not have valid feature names, but LGBMClassifier was fitted with feature names\n",
      "  warnings.warn(\n",
      "c:\\Users\\ivank\\OneDrive\\Desktop\\ml\\.venv\\Lib\\site-packages\\sklearn\\utils\\validation.py:2739: UserWarning: X does not have valid feature names, but LGBMClassifier was fitted with feature names\n",
      "  warnings.warn(\n",
      "c:\\Users\\ivank\\OneDrive\\Desktop\\ml\\.venv\\Lib\\site-packages\\sklearn\\utils\\validation.py:2739: UserWarning: X does not have valid feature names, but LGBMClassifier was fitted with feature names\n",
      "  warnings.warn(\n"
     ]
    }
   ],
   "source": [
    "for key, classifier in classifiers.items():\n",
    "    start = time.time()\n",
    "\n",
    "    cv = StratifiedKFold(n_splits=FOLDS, shuffle=True, random_state=0)\n",
    "\n",
    "    score = 0\n",
    "    for fold, (train_idx, val_idx) in enumerate(cv.split(train, y)):\n",
    "        X_train, X_valid = train[train_idx], train[val_idx]\n",
    "        y_train, y_valid = y[train_idx], y[val_idx]\n",
    "\n",
    "        clf = classifier\n",
    "        clf.fit(X_train, y_train)\n",
    "\n",
    "        preds += clf.predict_proba(test)[:, 1]\n",
    "        preds_train += clf.predict_proba(train)[:, 1]\n",
    "        score += clf.score(X_valid, y_valid)\n",
    "        print(\"Average infold validation accuracy: \", key, fold, np.round(100 * clf.score(X_valid, y_valid), 2))\n",
    "        \n",
    "    score = score / FOLDS\n",
    "    stop = time.time()\n",
    "    print(np.round(100 * score, 2))\n",
    "    print(np.round(stop - start) / 60, 2)\n",
    "\n"
   ]
  },
  {
   "cell_type": "code",
   "execution_count": 537,
   "metadata": {},
   "outputs": [],
   "source": [
    "preds = preds / (FOLDS * len(classifiers))\n",
    "preds_train = preds_train / (FOLDS * len(classifiers))"
   ]
  },
  {
   "cell_type": "code",
   "execution_count": 538,
   "metadata": {},
   "outputs": [],
   "source": [
    "output = pd.DataFrame(\n",
    "    {\n",
    "        \"PassengerId\": test_y[\"PassengerId\"],\n",
    "        \"Transported\": (preds > 0.5)\n",
    "    }\n",
    ")\n",
    "output.to_csv(\"submission.csv\", index=False)"
   ]
  }
 ],
 "metadata": {
  "kernelspec": {
   "display_name": ".venv",
   "language": "python",
   "name": "python3"
  },
  "language_info": {
   "codemirror_mode": {
    "name": "ipython",
    "version": 3
   },
   "file_extension": ".py",
   "mimetype": "text/x-python",
   "name": "python",
   "nbconvert_exporter": "python",
   "pygments_lexer": "ipython3",
   "version": "3.13.2"
  }
 },
 "nbformat": 4,
 "nbformat_minor": 2
}
