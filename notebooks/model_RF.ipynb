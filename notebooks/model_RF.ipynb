{
 "cells": [
  {
   "cell_type": "code",
   "execution_count": null,
   "metadata": {},
   "outputs": [],
   "source": [
    "import numpy as np\n",
    "import pandas as pd\n",
    "import time\n",
    "from sklearn.model_selection import StratifiedKFold\n",
    "from sklearn.metrics import accuracy_score\n",
    "from sklearn.preprocessing import StandardScaler, OneHotEncoder\n",
    "from sklearn.compose import ColumnTransformer\n",
    "from lightgbm import LGBMClassifier\n",
    "from sklearn.ensemble import RandomForestClassifier\n",
    "\n",
    "train = pd.read_csv(\"train.csv\")\n",
    "test = pd.read_csv(\"test.csv\")"
   ]
  },
  {
   "cell_type": "code",
   "execution_count": null,
   "metadata": {},
   "outputs": [],
   "source": [
    "train_y = train[[\"Transported\"]].astype(int)\n",
    "test_y = test[[\"PassengerId\"]]\n",
    "\n",
    "train['Group'] = train['PassengerId'].apply(lambda x: x.split('_')[0])\n",
    "train['GroupSize'] = train.groupby('Group')['PassengerId'].transform('count')\n",
    "train = train.drop('Group', axis=1)\n",
    "\n",
    "test['Group'] = test['PassengerId'].apply(lambda x: x.split('_')[0])\n",
    "test['GroupSize'] = test.groupby('Group')['PassengerId'].transform('count')\n",
    "test = test.drop('Group', axis=1)\n",
    "\n",
    "def get_cabin_side(cabin):\n",
    "    if pd.isna(cabin):  \n",
    "        return None  \n",
    "    side = cabin.split('/')[-1]\n",
    "    if side == 'P':\n",
    "        return 0\n",
    "    elif side == 'S':\n",
    "        return 1\n",
    "    else:\n",
    "        return None\n",
    "\n",
    "train['CabinSide'] = train['Cabin'].apply(get_cabin_side)\n",
    "test['CabinSide'] = test['Cabin'].apply(get_cabin_side)\n",
    "\n",
    "def get_cabin_deck(cabin):\n",
    "    if pd.isna(cabin): \n",
    "        return None \n",
    "    try:\n",
    "        deck = cabin.split('/')[0]\n",
    "        return deck\n",
    "    except:\n",
    "        return None\n",
    "\n",
    "train['CabinDeck'] = train['Cabin'].apply(get_cabin_deck)\n",
    "test['CabinDeck'] = test['Cabin'].apply(get_cabin_deck)\n",
    "\n",
    "train['VIP'] = train['VIP'].fillna(0)\n",
    "train[\"VIP\"] = train[\"VIP\"].astype(int)\n",
    "\n",
    "train['CryoSleep'] = train['CryoSleep'].fillna(0)\n",
    "train[\"CryoSleep\"] = train[\"CryoSleep\"].astype(int)\n",
    "\n",
    "test['VIP'] = test['VIP'].fillna(0)\n",
    "test[\"VIP\"] = test[\"VIP\"].astype(int)\n",
    "\n",
    "test['CryoSleep'] = test['CryoSleep'].fillna(0)\n",
    "test[\"CryoSleep\"] = test[\"CryoSleep\"].astype(int)\n",
    "\n",
    "\n",
    "train = train.drop(columns=[\"Name\"])\n",
    "train = train.drop(columns=[\"PassengerId\"])\n",
    "train = train.drop(columns=[\"Transported\"])\n",
    "\n",
    "test = test.drop(columns=[\"Name\"])\n",
    "test = test.drop(columns=[\"PassengerId\"])\n",
    "\n",
    "train = train.drop(columns=[\"Cabin\"])\n",
    "test = test.drop(columns=[\"Cabin\"])"
   ]
  },
  {
   "cell_type": "code",
   "execution_count": null,
   "metadata": {},
   "outputs": [],
   "source": []
  },
  {
   "cell_type": "code",
   "execution_count": 6,
   "metadata": {},
   "outputs": [
    {
     "name": "stdout",
     "output_type": "stream",
     "text": [
      "(8693, 27) (4277, 27)\n"
     ]
    }
   ],
   "source": [
    "num_cols = [cname for cname in train.columns if train[cname].dtype in [\"int64\", \"float64\"]]\n",
    "cat_cols = [cname for cname in train.columns if train[cname].dtype == \"object\"]\n",
    "\n",
    "from sklearn.pipeline import Pipeline\n",
    "num_transformer = Pipeline(steps=[(\"scaler\", StandardScaler())])\n",
    "\n",
    "cat_transformer = Pipeline(\n",
    "    steps=[\n",
    "        (\n",
    "            \"onehot\",\n",
    "            OneHotEncoder(drop='if_binary', handle_unknown=\"ignore\")\n",
    "        )\n",
    "    ]\n",
    ")\n",
    "\n",
    "ct = ColumnTransformer(\n",
    "    transformers = [\n",
    "        (\"num\", num_transformer, num_cols),\n",
    "        (\"cat\", cat_transformer, cat_cols),\n",
    "    ],\n",
    "    remainder=\"passthrough\"\n",
    ")\n",
    "\n",
    "train = ct.fit_transform(train)\n",
    "test = ct.fit_transform(test)\n",
    "\n",
    "print(train.shape, test.shape)"
   ]
  },
  {
   "cell_type": "code",
   "execution_count": 46,
   "metadata": {},
   "outputs": [],
   "source": [
    "classifiers = {\n",
    "    \"Forest\": RandomForestClassifier(\n",
    "        n_estimators=400, max_depth=13, random_state=1, min_samples_split=10, min_samples_leaf=3\n",
    "    ),\n",
    "}\n",
    "\n",
    "FOLDS = 10\n",
    "y = train_y.values\n",
    "\n",
    "preds = np.zeros(test.shape[0])\n",
    "preds_train = np.zeros(train.shape[0])"
   ]
  },
  {
   "cell_type": "code",
   "execution_count": 47,
   "metadata": {},
   "outputs": [
    {
     "name": "stderr",
     "output_type": "stream",
     "text": [
      "c:\\Users\\ivank\\OneDrive\\Desktop\\ml\\.venv\\Lib\\site-packages\\sklearn\\base.py:1389: DataConversionWarning: A column-vector y was passed when a 1d array was expected. Please change the shape of y to (n_samples,), for example using ravel().\n",
      "  return fit_method(estimator, *args, **kwargs)\n"
     ]
    },
    {
     "name": "stdout",
     "output_type": "stream",
     "text": [
      "Average infold validation accuracy:  Forest 0 81.26\n"
     ]
    },
    {
     "name": "stderr",
     "output_type": "stream",
     "text": [
      "c:\\Users\\ivank\\OneDrive\\Desktop\\ml\\.venv\\Lib\\site-packages\\sklearn\\base.py:1389: DataConversionWarning: A column-vector y was passed when a 1d array was expected. Please change the shape of y to (n_samples,), for example using ravel().\n",
      "  return fit_method(estimator, *args, **kwargs)\n"
     ]
    },
    {
     "name": "stdout",
     "output_type": "stream",
     "text": [
      "Average infold validation accuracy:  Forest 1 80.57\n"
     ]
    },
    {
     "name": "stderr",
     "output_type": "stream",
     "text": [
      "c:\\Users\\ivank\\OneDrive\\Desktop\\ml\\.venv\\Lib\\site-packages\\sklearn\\base.py:1389: DataConversionWarning: A column-vector y was passed when a 1d array was expected. Please change the shape of y to (n_samples,), for example using ravel().\n",
      "  return fit_method(estimator, *args, **kwargs)\n"
     ]
    },
    {
     "name": "stdout",
     "output_type": "stream",
     "text": [
      "Average infold validation accuracy:  Forest 2 81.15\n"
     ]
    },
    {
     "name": "stderr",
     "output_type": "stream",
     "text": [
      "c:\\Users\\ivank\\OneDrive\\Desktop\\ml\\.venv\\Lib\\site-packages\\sklearn\\base.py:1389: DataConversionWarning: A column-vector y was passed when a 1d array was expected. Please change the shape of y to (n_samples,), for example using ravel().\n",
      "  return fit_method(estimator, *args, **kwargs)\n"
     ]
    },
    {
     "name": "stdout",
     "output_type": "stream",
     "text": [
      "Average infold validation accuracy:  Forest 3 80.44\n"
     ]
    },
    {
     "name": "stderr",
     "output_type": "stream",
     "text": [
      "c:\\Users\\ivank\\OneDrive\\Desktop\\ml\\.venv\\Lib\\site-packages\\sklearn\\base.py:1389: DataConversionWarning: A column-vector y was passed when a 1d array was expected. Please change the shape of y to (n_samples,), for example using ravel().\n",
      "  return fit_method(estimator, *args, **kwargs)\n"
     ]
    },
    {
     "name": "stdout",
     "output_type": "stream",
     "text": [
      "Average infold validation accuracy:  Forest 4 82.05\n"
     ]
    },
    {
     "name": "stderr",
     "output_type": "stream",
     "text": [
      "c:\\Users\\ivank\\OneDrive\\Desktop\\ml\\.venv\\Lib\\site-packages\\sklearn\\base.py:1389: DataConversionWarning: A column-vector y was passed when a 1d array was expected. Please change the shape of y to (n_samples,), for example using ravel().\n",
      "  return fit_method(estimator, *args, **kwargs)\n"
     ]
    },
    {
     "name": "stdout",
     "output_type": "stream",
     "text": [
      "Average infold validation accuracy:  Forest 5 80.09\n"
     ]
    },
    {
     "name": "stderr",
     "output_type": "stream",
     "text": [
      "c:\\Users\\ivank\\OneDrive\\Desktop\\ml\\.venv\\Lib\\site-packages\\sklearn\\base.py:1389: DataConversionWarning: A column-vector y was passed when a 1d array was expected. Please change the shape of y to (n_samples,), for example using ravel().\n",
      "  return fit_method(estimator, *args, **kwargs)\n"
     ]
    },
    {
     "name": "stdout",
     "output_type": "stream",
     "text": [
      "Average infold validation accuracy:  Forest 6 79.4\n"
     ]
    },
    {
     "name": "stderr",
     "output_type": "stream",
     "text": [
      "c:\\Users\\ivank\\OneDrive\\Desktop\\ml\\.venv\\Lib\\site-packages\\sklearn\\base.py:1389: DataConversionWarning: A column-vector y was passed when a 1d array was expected. Please change the shape of y to (n_samples,), for example using ravel().\n",
      "  return fit_method(estimator, *args, **kwargs)\n"
     ]
    },
    {
     "name": "stdout",
     "output_type": "stream",
     "text": [
      "Average infold validation accuracy:  Forest 7 78.94\n"
     ]
    },
    {
     "name": "stderr",
     "output_type": "stream",
     "text": [
      "c:\\Users\\ivank\\OneDrive\\Desktop\\ml\\.venv\\Lib\\site-packages\\sklearn\\base.py:1389: DataConversionWarning: A column-vector y was passed when a 1d array was expected. Please change the shape of y to (n_samples,), for example using ravel().\n",
      "  return fit_method(estimator, *args, **kwargs)\n"
     ]
    },
    {
     "name": "stdout",
     "output_type": "stream",
     "text": [
      "Average infold validation accuracy:  Forest 8 81.36\n"
     ]
    },
    {
     "name": "stderr",
     "output_type": "stream",
     "text": [
      "c:\\Users\\ivank\\OneDrive\\Desktop\\ml\\.venv\\Lib\\site-packages\\sklearn\\base.py:1389: DataConversionWarning: A column-vector y was passed when a 1d array was expected. Please change the shape of y to (n_samples,), for example using ravel().\n",
      "  return fit_method(estimator, *args, **kwargs)\n"
     ]
    },
    {
     "name": "stdout",
     "output_type": "stream",
     "text": [
      "Average infold validation accuracy:  Forest 9 79.75\n",
      "80.5\n",
      "0.38333333333333336 2\n"
     ]
    }
   ],
   "source": [
    "for key, classifier in classifiers.items():\n",
    "    start = time.time()\n",
    "\n",
    "    cv = StratifiedKFold(n_splits=FOLDS, shuffle=True, random_state=0)\n",
    "\n",
    "    score = 0\n",
    "    for fold, (train_idx, val_idx) in enumerate(cv.split(train, y)):\n",
    "        X_train, X_valid = train[train_idx], train[val_idx]\n",
    "        y_train, y_valid = y[train_idx], y[val_idx]\n",
    "\n",
    "        clf = classifier\n",
    "        clf.fit(X_train, y_train)\n",
    "\n",
    "        preds += clf.predict_proba(test)[:, 1]\n",
    "        preds_train += clf.predict_proba(train)[:, 1]\n",
    "        score += clf.score(X_valid, y_valid)\n",
    "        print(\"Average infold validation accuracy: \", key, fold, np.round(100 * clf.score(X_valid, y_valid), 2))\n",
    "        \n",
    "    score = score / FOLDS\n",
    "    stop = time.time()\n",
    "    print(np.round(100 * score, 2))\n",
    "    print(np.round(stop - start) / 60, 2)"
   ]
  },
  {
   "cell_type": "code",
   "execution_count": 48,
   "metadata": {},
   "outputs": [],
   "source": [
    "preds = preds / (FOLDS * len(classifiers))\n",
    "preds_train = preds_train / (FOLDS * len(classifiers))\n",
    "\n",
    "output = pd.DataFrame(\n",
    "    {\n",
    "        \"PassengerId\": test_y[\"PassengerId\"],\n",
    "        \"Transported\": (preds > 0.5)\n",
    "    }\n",
    ")\n",
    "output.to_csv(\"submission.csv\", index=False)"
   ]
  }
 ],
 "metadata": {
  "kernelspec": {
   "display_name": ".venv",
   "language": "python",
   "name": "python3"
  },
  "language_info": {
   "codemirror_mode": {
    "name": "ipython",
    "version": 3
   },
   "file_extension": ".py",
   "mimetype": "text/x-python",
   "name": "python",
   "nbconvert_exporter": "python",
   "pygments_lexer": "ipython3",
   "version": "3.13.2"
  }
 },
 "nbformat": 4,
 "nbformat_minor": 2
}
