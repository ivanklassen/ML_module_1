{
 "cells": [
  {
   "cell_type": "code",
   "execution_count": 163,
   "metadata": {},
   "outputs": [],
   "source": [
    "import numpy as np\n",
    "import pandas as pd\n",
    "import time\n",
    "from sklearn.model_selection import StratifiedKFold\n",
    "from sklearn.metrics import accuracy_score\n",
    "from sklearn.preprocessing import StandardScaler, OneHotEncoder\n",
    "from sklearn.compose import ColumnTransformer\n",
    "from lightgbm import LGBMClassifier\n",
    "import matplotlib.pyplot as plt\n",
    "import seaborn as sns\n",
    "import lightgbm as lgb\n",
    "import optuna\n",
    "from sklearn.model_selection import train_test_split"
   ]
  },
  {
   "cell_type": "code",
   "execution_count": 164,
   "metadata": {},
   "outputs": [],
   "source": [
    "train = pd.read_csv(\"train.csv\")\n",
    "test = pd.read_csv(\"test.csv\")"
   ]
  },
  {
   "cell_type": "code",
   "execution_count": 165,
   "metadata": {},
   "outputs": [],
   "source": [
    "train_y = train[[\"Transported\"]].astype(int)\n",
    "test_y = test[[\"PassengerId\"]]"
   ]
  },
  {
   "cell_type": "code",
   "execution_count": null,
   "metadata": {},
   "outputs": [],
   "source": [
    "\n",
    "train['Group'] = train['PassengerId'].apply(lambda x: x.split('_')[0])\n",
    "train['GroupSize'] = train.groupby('Group')['PassengerId'].transform('count')\n",
    "train = train.drop('Group', axis=1)\n",
    "\n",
    "test['Group'] = test['PassengerId'].apply(lambda x: x.split('_')[0])\n",
    "test['GroupSize'] = test.groupby('Group')['PassengerId'].transform('count')\n",
    "test = test.drop('Group', axis=1)\n",
    "\n",
    "def get_cabin_side(cabin):\n",
    "    if pd.isna(cabin):  \n",
    "        return None \n",
    "    side = cabin.split('/')[-1]\n",
    "    if side == 'P':\n",
    "        return 0\n",
    "    elif side == 'S':\n",
    "        return 1\n",
    "    else:\n",
    "        return None\n",
    "\n",
    "train['CabinSide'] = train['Cabin'].apply(get_cabin_side)\n",
    "test['CabinSide'] = test['Cabin'].apply(get_cabin_side)\n",
    "\n",
    "def get_cabin_deck(cabin):\n",
    "    if pd.isna(cabin): \n",
    "        return None\n",
    "    try:\n",
    "        parts = cabin.split('/')\n",
    "        return f\"{parts[0]}\"\n",
    "    except:\n",
    "        return None\n",
    "\n",
    "train['CabinDeck'] = train['Cabin'].apply(get_cabin_deck)\n",
    "test['CabinDeck'] = test['Cabin'].apply(get_cabin_deck)\n",
    "\n"
   ]
  },
  {
   "cell_type": "code",
   "execution_count": null,
   "metadata": {},
   "outputs": [],
   "source": [
    "train['VIP'] = train['VIP'].fillna(0)\n",
    "train[\"VIP\"] = train[\"VIP\"].astype(int)\n",
    "\n",
    "train['CryoSleep'] = train['CryoSleep'].fillna(0)\n",
    "train[\"CryoSleep\"] = train[\"CryoSleep\"].astype(int)\n",
    "\n",
    "test['VIP'] = test['VIP'].fillna(0)\n",
    "test[\"VIP\"] = test[\"VIP\"].astype(int)\n",
    "\n",
    "test['CryoSleep'] = test['CryoSleep'].fillna(0)\n",
    "test[\"CryoSleep\"] = test[\"CryoSleep\"].astype(int)\n",
    "\n",
    "train = train.drop(columns=[\"Name\", \"PassengerId\", \"Transported\", \"Cabin\"])\n",
    "test = test.drop(columns=[\"Name\", \"PassengerId\", \"Cabin\"])\n"
   ]
  },
  {
   "cell_type": "code",
   "execution_count": 168,
   "metadata": {},
   "outputs": [],
   "source": [
    "train[[\"RoomService_log\"]] = np.log10(1 + train[[\"RoomService\"]])\n",
    "train[[\"FoodCourt_log\"]] = np.log10(1 + train[[\"FoodCourt\"]])\n",
    "train[[\"ShoppingMall_log\"]] = np.log10(1 + train[[\"ShoppingMall\"]])\n",
    "train[[\"Spa_log\"]] = np.log10(1 + train[[\"Spa\"]])\n",
    "train[[\"VRDeck_log\"]] = np.log10(1 + train[[\"VRDeck\"]])\n",
    "\n",
    "test[[\"RoomService_log\"]] = np.log10(1 + test[[\"RoomService\"]])\n",
    "test[[\"FoodCourt_log\"]] = np.log10(1 + test[[\"FoodCourt\"]])\n",
    "test[[\"ShoppingMall_log\"]] = np.log10(1 + test[[\"ShoppingMall\"]])\n",
    "test[[\"Spa_log\"]] = np.log10(1 + test[[\"Spa\"]])\n",
    "test[[\"VRDeck_log\"]] = np.log10(1 + test[[\"VRDeck\"]])\n",
    "\n",
    "train = train.drop([\"RoomService\", \"FoodCourt\", \"ShoppingMall\", \"Spa\", \"VRDeck\"], axis=1)\n",
    "test = test.drop([\"RoomService\", \"FoodCourt\", \"ShoppingMall\", \"Spa\", \"VRDeck\"], axis=1)\n"
   ]
  },
  {
   "cell_type": "code",
   "execution_count": 169,
   "metadata": {},
   "outputs": [],
   "source": [
    "num_cols = [cname for cname in train.columns if train[cname].dtype in [\"int64\", \"float64\"]]\n",
    "cat_cols = [cname for cname in train.columns if train[cname].dtype == \"object\"]"
   ]
  },
  {
   "cell_type": "code",
   "execution_count": 170,
   "metadata": {},
   "outputs": [],
   "source": [
    "from sklearn.pipeline import Pipeline\n",
    "num_transformer = Pipeline(steps=[(\"scaler\", StandardScaler())])\n",
    "\n",
    "cat_transformer = Pipeline(\n",
    "    steps=[\n",
    "        (\n",
    "            \"onehot\",\n",
    "            OneHotEncoder(drop='if_binary', handle_unknown=\"ignore\")\n",
    "        )\n",
    "    ]\n",
    ")"
   ]
  },
  {
   "cell_type": "code",
   "execution_count": 171,
   "metadata": {},
   "outputs": [],
   "source": [
    "ct = ColumnTransformer(\n",
    "    transformers = [\n",
    "        (\"num\", num_transformer, num_cols),\n",
    "        (\"cat\", cat_transformer, cat_cols),\n",
    "    ],\n",
    "    remainder=\"passthrough\"\n",
    ")"
   ]
  },
  {
   "cell_type": "code",
   "execution_count": 172,
   "metadata": {},
   "outputs": [],
   "source": [
    "train = ct.fit_transform(train)\n",
    "test = ct.fit_transform(test)\n"
   ]
  },
  {
   "cell_type": "code",
   "execution_count": 173,
   "metadata": {},
   "outputs": [
    {
     "name": "stdout",
     "output_type": "stream",
     "text": [
      "(8693, 27) (4277, 27)\n"
     ]
    }
   ],
   "source": [
    "print(train.shape, test.shape)"
   ]
  },
  {
   "cell_type": "code",
   "execution_count": null,
   "metadata": {},
   "outputs": [],
   "source": [
    "classifiers = {\n",
    "    \"LGBM\": LGBMClassifier(\n",
    "        learning_rate=0.00974924788169623, max_depth=9, n_estimators=474, random_state=0, num_leaves=19\n",
    "    ),\n",
    "}"
   ]
  },
  {
   "cell_type": "code",
   "execution_count": 175,
   "metadata": {},
   "outputs": [],
   "source": [
    "\n",
    "FOLDS = 10\n",
    "y = train_y.values"
   ]
  },
  {
   "cell_type": "code",
   "execution_count": null,
   "metadata": {},
   "outputs": [],
   "source": [
    "\n",
    "X_train_opt, X_test_opt, y_train_opt, y_test_opt = train_test_split(train, train_y, test_size=0.2, random_state=42)\n",
    "\n",
    "def optimize_lgbm(trial):\n",
    "    params = {\n",
    "        'learning_rate': trial.suggest_loguniform('learning_rate', 0.001, 0.1),\n",
    "        'max_depth': trial.suggest_int('max_depth', 3, 15),\n",
    "        'n_estimators': trial.suggest_int('n_estimators', 100, 1000),\n",
    "        'num_leaves': trial.suggest_int('num_leaves', 10, 100),\n",
    "        'random_state': 0\n",
    "    }\n",
    "\n",
    "    lgb_model = LGBMClassifier(**params)\n",
    "    lgb_model.fit(X_train_opt, y_train_opt)\n",
    "\n",
    "    y_pred = lgb_model.predict(X_test_opt)\n",
    "    accuracy = accuracy_score(y_test_opt, y_pred)\n",
    "\n",
    "    return accuracy\n",
    "\n",
    "study = optuna.create_study(direction='maximize')\n",
    "study.optimize(optimize_lgbm, n_trials=100)\n",
    "\n",
    "print('Лучшие гиперпараметры:', study.best_params)\n",
    "print('Лучшая оценка:', study.best_value)\n",
    "\n",
    "classifiers = {\n",
    "    \"LGBM\": lgb.LGBMClassifier(\n",
    "        learning_rate=study.best_params['learning_rate'],\n",
    "        max_depth=study.best_params['max_depth'],\n",
    "        n_estimators=study.best_params['n_estimators'],\n",
    "        num_leaves=study.best_params['num_leaves'],\n",
    "        random_state=0\n",
    "    ),\n",
    "}"
   ]
  },
  {
   "cell_type": "code",
   "execution_count": 177,
   "metadata": {},
   "outputs": [],
   "source": [
    "preds = np.zeros(test.shape[0])\n",
    "preds_train = np.zeros(train.shape[0])"
   ]
  },
  {
   "cell_type": "code",
   "execution_count": 178,
   "metadata": {},
   "outputs": [
    {
     "name": "stdout",
     "output_type": "stream",
     "text": [
      "[LightGBM] [Info] Number of positive: 3940, number of negative: 3883\n",
      "[LightGBM] [Info] Auto-choosing col-wise multi-threading, the overhead of testing was 0.000431 seconds.\n",
      "You can set `force_col_wise=true` to remove the overhead.\n",
      "[LightGBM] [Info] Total Bins 1406\n",
      "[LightGBM] [Info] Number of data points in the train set: 7823, number of used features: 26\n",
      "[LightGBM] [Info] [binary:BoostFromScore]: pavg=0.503643 -> initscore=0.014573\n",
      "[LightGBM] [Info] Start training from score 0.014573\n"
     ]
    },
    {
     "name": "stderr",
     "output_type": "stream",
     "text": [
      "c:\\Users\\ivank\\OneDrive\\Desktop\\ML_module_1\\notebooks\\.venv\\Lib\\site-packages\\sklearn\\preprocessing\\_label.py:93: DataConversionWarning: A column-vector y was passed when a 1d array was expected. Please change the shape of y to (n_samples, ), for example using ravel().\n",
      "  y = column_or_1d(y, warn=True)\n",
      "c:\\Users\\ivank\\OneDrive\\Desktop\\ML_module_1\\notebooks\\.venv\\Lib\\site-packages\\sklearn\\preprocessing\\_label.py:129: DataConversionWarning: A column-vector y was passed when a 1d array was expected. Please change the shape of y to (n_samples, ), for example using ravel().\n",
      "  y = column_or_1d(y, dtype=self.classes_.dtype, warn=True)\n",
      "c:\\Users\\ivank\\OneDrive\\Desktop\\ML_module_1\\notebooks\\.venv\\Lib\\site-packages\\sklearn\\utils\\validation.py:2739: UserWarning: X does not have valid feature names, but LGBMClassifier was fitted with feature names\n",
      "  warnings.warn(\n",
      "c:\\Users\\ivank\\OneDrive\\Desktop\\ML_module_1\\notebooks\\.venv\\Lib\\site-packages\\sklearn\\utils\\validation.py:2739: UserWarning: X does not have valid feature names, but LGBMClassifier was fitted with feature names\n",
      "  warnings.warn(\n",
      "c:\\Users\\ivank\\OneDrive\\Desktop\\ML_module_1\\notebooks\\.venv\\Lib\\site-packages\\sklearn\\utils\\validation.py:2739: UserWarning: X does not have valid feature names, but LGBMClassifier was fitted with feature names\n",
      "  warnings.warn(\n",
      "c:\\Users\\ivank\\OneDrive\\Desktop\\ML_module_1\\notebooks\\.venv\\Lib\\site-packages\\sklearn\\utils\\validation.py:2739: UserWarning: X does not have valid feature names, but LGBMClassifier was fitted with feature names\n",
      "  warnings.warn(\n",
      "c:\\Users\\ivank\\OneDrive\\Desktop\\ML_module_1\\notebooks\\.venv\\Lib\\site-packages\\sklearn\\preprocessing\\_label.py:93: DataConversionWarning: A column-vector y was passed when a 1d array was expected. Please change the shape of y to (n_samples, ), for example using ravel().\n",
      "  y = column_or_1d(y, warn=True)\n",
      "c:\\Users\\ivank\\OneDrive\\Desktop\\ML_module_1\\notebooks\\.venv\\Lib\\site-packages\\sklearn\\preprocessing\\_label.py:129: DataConversionWarning: A column-vector y was passed when a 1d array was expected. Please change the shape of y to (n_samples, ), for example using ravel().\n",
      "  y = column_or_1d(y, dtype=self.classes_.dtype, warn=True)\n"
     ]
    },
    {
     "name": "stdout",
     "output_type": "stream",
     "text": [
      "Average infold validation accuracy:  LGBM 0 80.23\n",
      "[LightGBM] [Info] Number of positive: 3940, number of negative: 3883\n",
      "[LightGBM] [Info] Auto-choosing col-wise multi-threading, the overhead of testing was 0.000365 seconds.\n",
      "You can set `force_col_wise=true` to remove the overhead.\n",
      "[LightGBM] [Info] Total Bins 1407\n",
      "[LightGBM] [Info] Number of data points in the train set: 7823, number of used features: 26\n",
      "[LightGBM] [Info] [binary:BoostFromScore]: pavg=0.503643 -> initscore=0.014573\n",
      "[LightGBM] [Info] Start training from score 0.014573\n"
     ]
    },
    {
     "name": "stderr",
     "output_type": "stream",
     "text": [
      "c:\\Users\\ivank\\OneDrive\\Desktop\\ML_module_1\\notebooks\\.venv\\Lib\\site-packages\\sklearn\\utils\\validation.py:2739: UserWarning: X does not have valid feature names, but LGBMClassifier was fitted with feature names\n",
      "  warnings.warn(\n",
      "c:\\Users\\ivank\\OneDrive\\Desktop\\ML_module_1\\notebooks\\.venv\\Lib\\site-packages\\sklearn\\utils\\validation.py:2739: UserWarning: X does not have valid feature names, but LGBMClassifier was fitted with feature names\n",
      "  warnings.warn(\n",
      "c:\\Users\\ivank\\OneDrive\\Desktop\\ML_module_1\\notebooks\\.venv\\Lib\\site-packages\\sklearn\\utils\\validation.py:2739: UserWarning: X does not have valid feature names, but LGBMClassifier was fitted with feature names\n",
      "  warnings.warn(\n",
      "c:\\Users\\ivank\\OneDrive\\Desktop\\ML_module_1\\notebooks\\.venv\\Lib\\site-packages\\sklearn\\utils\\validation.py:2739: UserWarning: X does not have valid feature names, but LGBMClassifier was fitted with feature names\n",
      "  warnings.warn(\n",
      "c:\\Users\\ivank\\OneDrive\\Desktop\\ML_module_1\\notebooks\\.venv\\Lib\\site-packages\\sklearn\\preprocessing\\_label.py:93: DataConversionWarning: A column-vector y was passed when a 1d array was expected. Please change the shape of y to (n_samples, ), for example using ravel().\n",
      "  y = column_or_1d(y, warn=True)\n",
      "c:\\Users\\ivank\\OneDrive\\Desktop\\ML_module_1\\notebooks\\.venv\\Lib\\site-packages\\sklearn\\preprocessing\\_label.py:129: DataConversionWarning: A column-vector y was passed when a 1d array was expected. Please change the shape of y to (n_samples, ), for example using ravel().\n",
      "  y = column_or_1d(y, dtype=self.classes_.dtype, warn=True)\n"
     ]
    },
    {
     "name": "stdout",
     "output_type": "stream",
     "text": [
      "Average infold validation accuracy:  LGBM 1 80.34\n",
      "[LightGBM] [Info] Number of positive: 3940, number of negative: 3883\n",
      "[LightGBM] [Info] Auto-choosing col-wise multi-threading, the overhead of testing was 0.000330 seconds.\n",
      "You can set `force_col_wise=true` to remove the overhead.\n",
      "[LightGBM] [Info] Total Bins 1406\n",
      "[LightGBM] [Info] Number of data points in the train set: 7823, number of used features: 26\n",
      "[LightGBM] [Info] [binary:BoostFromScore]: pavg=0.503643 -> initscore=0.014573\n",
      "[LightGBM] [Info] Start training from score 0.014573\n"
     ]
    },
    {
     "name": "stderr",
     "output_type": "stream",
     "text": [
      "c:\\Users\\ivank\\OneDrive\\Desktop\\ML_module_1\\notebooks\\.venv\\Lib\\site-packages\\sklearn\\utils\\validation.py:2739: UserWarning: X does not have valid feature names, but LGBMClassifier was fitted with feature names\n",
      "  warnings.warn(\n",
      "c:\\Users\\ivank\\OneDrive\\Desktop\\ML_module_1\\notebooks\\.venv\\Lib\\site-packages\\sklearn\\utils\\validation.py:2739: UserWarning: X does not have valid feature names, but LGBMClassifier was fitted with feature names\n",
      "  warnings.warn(\n",
      "c:\\Users\\ivank\\OneDrive\\Desktop\\ML_module_1\\notebooks\\.venv\\Lib\\site-packages\\sklearn\\utils\\validation.py:2739: UserWarning: X does not have valid feature names, but LGBMClassifier was fitted with feature names\n",
      "  warnings.warn(\n",
      "c:\\Users\\ivank\\OneDrive\\Desktop\\ML_module_1\\notebooks\\.venv\\Lib\\site-packages\\sklearn\\utils\\validation.py:2739: UserWarning: X does not have valid feature names, but LGBMClassifier was fitted with feature names\n",
      "  warnings.warn(\n",
      "c:\\Users\\ivank\\OneDrive\\Desktop\\ML_module_1\\notebooks\\.venv\\Lib\\site-packages\\sklearn\\preprocessing\\_label.py:93: DataConversionWarning: A column-vector y was passed when a 1d array was expected. Please change the shape of y to (n_samples, ), for example using ravel().\n",
      "  y = column_or_1d(y, warn=True)\n",
      "c:\\Users\\ivank\\OneDrive\\Desktop\\ML_module_1\\notebooks\\.venv\\Lib\\site-packages\\sklearn\\preprocessing\\_label.py:129: DataConversionWarning: A column-vector y was passed when a 1d array was expected. Please change the shape of y to (n_samples, ), for example using ravel().\n",
      "  y = column_or_1d(y, dtype=self.classes_.dtype, warn=True)\n"
     ]
    },
    {
     "name": "stdout",
     "output_type": "stream",
     "text": [
      "Average infold validation accuracy:  LGBM 2 81.03\n",
      "[LightGBM] [Info] Number of positive: 3941, number of negative: 3883\n",
      "[LightGBM] [Info] Auto-choosing row-wise multi-threading, the overhead of testing was 0.000182 seconds.\n",
      "You can set `force_row_wise=true` to remove the overhead.\n",
      "And if memory is not enough, you can set `force_col_wise=true`.\n",
      "[LightGBM] [Info] Total Bins 1407\n",
      "[LightGBM] [Info] Number of data points in the train set: 7824, number of used features: 26\n",
      "[LightGBM] [Info] [binary:BoostFromScore]: pavg=0.503707 -> initscore=0.014826\n",
      "[LightGBM] [Info] Start training from score 0.014826\n"
     ]
    },
    {
     "name": "stderr",
     "output_type": "stream",
     "text": [
      "c:\\Users\\ivank\\OneDrive\\Desktop\\ML_module_1\\notebooks\\.venv\\Lib\\site-packages\\sklearn\\utils\\validation.py:2739: UserWarning: X does not have valid feature names, but LGBMClassifier was fitted with feature names\n",
      "  warnings.warn(\n",
      "c:\\Users\\ivank\\OneDrive\\Desktop\\ML_module_1\\notebooks\\.venv\\Lib\\site-packages\\sklearn\\utils\\validation.py:2739: UserWarning: X does not have valid feature names, but LGBMClassifier was fitted with feature names\n",
      "  warnings.warn(\n",
      "c:\\Users\\ivank\\OneDrive\\Desktop\\ML_module_1\\notebooks\\.venv\\Lib\\site-packages\\sklearn\\utils\\validation.py:2739: UserWarning: X does not have valid feature names, but LGBMClassifier was fitted with feature names\n",
      "  warnings.warn(\n",
      "c:\\Users\\ivank\\OneDrive\\Desktop\\ML_module_1\\notebooks\\.venv\\Lib\\site-packages\\sklearn\\utils\\validation.py:2739: UserWarning: X does not have valid feature names, but LGBMClassifier was fitted with feature names\n",
      "  warnings.warn(\n",
      "c:\\Users\\ivank\\OneDrive\\Desktop\\ML_module_1\\notebooks\\.venv\\Lib\\site-packages\\sklearn\\preprocessing\\_label.py:93: DataConversionWarning: A column-vector y was passed when a 1d array was expected. Please change the shape of y to (n_samples, ), for example using ravel().\n",
      "  y = column_or_1d(y, warn=True)\n",
      "c:\\Users\\ivank\\OneDrive\\Desktop\\ML_module_1\\notebooks\\.venv\\Lib\\site-packages\\sklearn\\preprocessing\\_label.py:129: DataConversionWarning: A column-vector y was passed when a 1d array was expected. Please change the shape of y to (n_samples, ), for example using ravel().\n",
      "  y = column_or_1d(y, dtype=self.classes_.dtype, warn=True)\n"
     ]
    },
    {
     "name": "stdout",
     "output_type": "stream",
     "text": [
      "Average infold validation accuracy:  LGBM 3 79.29\n",
      "[LightGBM] [Info] Number of positive: 3941, number of negative: 3883\n",
      "[LightGBM] [Info] Auto-choosing col-wise multi-threading, the overhead of testing was 0.000334 seconds.\n",
      "You can set `force_col_wise=true` to remove the overhead.\n",
      "[LightGBM] [Info] Total Bins 1406\n",
      "[LightGBM] [Info] Number of data points in the train set: 7824, number of used features: 26\n",
      "[LightGBM] [Info] [binary:BoostFromScore]: pavg=0.503707 -> initscore=0.014826\n",
      "[LightGBM] [Info] Start training from score 0.014826\n"
     ]
    },
    {
     "name": "stderr",
     "output_type": "stream",
     "text": [
      "c:\\Users\\ivank\\OneDrive\\Desktop\\ML_module_1\\notebooks\\.venv\\Lib\\site-packages\\sklearn\\utils\\validation.py:2739: UserWarning: X does not have valid feature names, but LGBMClassifier was fitted with feature names\n",
      "  warnings.warn(\n",
      "c:\\Users\\ivank\\OneDrive\\Desktop\\ML_module_1\\notebooks\\.venv\\Lib\\site-packages\\sklearn\\utils\\validation.py:2739: UserWarning: X does not have valid feature names, but LGBMClassifier was fitted with feature names\n",
      "  warnings.warn(\n",
      "c:\\Users\\ivank\\OneDrive\\Desktop\\ML_module_1\\notebooks\\.venv\\Lib\\site-packages\\sklearn\\utils\\validation.py:2739: UserWarning: X does not have valid feature names, but LGBMClassifier was fitted with feature names\n",
      "  warnings.warn(\n",
      "c:\\Users\\ivank\\OneDrive\\Desktop\\ML_module_1\\notebooks\\.venv\\Lib\\site-packages\\sklearn\\utils\\validation.py:2739: UserWarning: X does not have valid feature names, but LGBMClassifier was fitted with feature names\n",
      "  warnings.warn(\n",
      "c:\\Users\\ivank\\OneDrive\\Desktop\\ML_module_1\\notebooks\\.venv\\Lib\\site-packages\\sklearn\\preprocessing\\_label.py:93: DataConversionWarning: A column-vector y was passed when a 1d array was expected. Please change the shape of y to (n_samples, ), for example using ravel().\n",
      "  y = column_or_1d(y, warn=True)\n",
      "c:\\Users\\ivank\\OneDrive\\Desktop\\ML_module_1\\notebooks\\.venv\\Lib\\site-packages\\sklearn\\preprocessing\\_label.py:129: DataConversionWarning: A column-vector y was passed when a 1d array was expected. Please change the shape of y to (n_samples, ), for example using ravel().\n",
      "  y = column_or_1d(y, dtype=self.classes_.dtype, warn=True)\n"
     ]
    },
    {
     "name": "stdout",
     "output_type": "stream",
     "text": [
      "Average infold validation accuracy:  LGBM 4 80.67\n",
      "[LightGBM] [Info] Number of positive: 3940, number of negative: 3884\n",
      "[LightGBM] [Info] Auto-choosing row-wise multi-threading, the overhead of testing was 0.000161 seconds.\n",
      "You can set `force_row_wise=true` to remove the overhead.\n",
      "And if memory is not enough, you can set `force_col_wise=true`.\n",
      "[LightGBM] [Info] Total Bins 1406\n",
      "[LightGBM] [Info] Number of data points in the train set: 7824, number of used features: 26\n",
      "[LightGBM] [Info] [binary:BoostFromScore]: pavg=0.503579 -> initscore=0.014315\n",
      "[LightGBM] [Info] Start training from score 0.014315\n"
     ]
    },
    {
     "name": "stderr",
     "output_type": "stream",
     "text": [
      "c:\\Users\\ivank\\OneDrive\\Desktop\\ML_module_1\\notebooks\\.venv\\Lib\\site-packages\\sklearn\\utils\\validation.py:2739: UserWarning: X does not have valid feature names, but LGBMClassifier was fitted with feature names\n",
      "  warnings.warn(\n",
      "c:\\Users\\ivank\\OneDrive\\Desktop\\ML_module_1\\notebooks\\.venv\\Lib\\site-packages\\sklearn\\utils\\validation.py:2739: UserWarning: X does not have valid feature names, but LGBMClassifier was fitted with feature names\n",
      "  warnings.warn(\n",
      "c:\\Users\\ivank\\OneDrive\\Desktop\\ML_module_1\\notebooks\\.venv\\Lib\\site-packages\\sklearn\\utils\\validation.py:2739: UserWarning: X does not have valid feature names, but LGBMClassifier was fitted with feature names\n",
      "  warnings.warn(\n",
      "c:\\Users\\ivank\\OneDrive\\Desktop\\ML_module_1\\notebooks\\.venv\\Lib\\site-packages\\sklearn\\utils\\validation.py:2739: UserWarning: X does not have valid feature names, but LGBMClassifier was fitted with feature names\n",
      "  warnings.warn(\n",
      "c:\\Users\\ivank\\OneDrive\\Desktop\\ML_module_1\\notebooks\\.venv\\Lib\\site-packages\\sklearn\\preprocessing\\_label.py:93: DataConversionWarning: A column-vector y was passed when a 1d array was expected. Please change the shape of y to (n_samples, ), for example using ravel().\n",
      "  y = column_or_1d(y, warn=True)\n",
      "c:\\Users\\ivank\\OneDrive\\Desktop\\ML_module_1\\notebooks\\.venv\\Lib\\site-packages\\sklearn\\preprocessing\\_label.py:129: DataConversionWarning: A column-vector y was passed when a 1d array was expected. Please change the shape of y to (n_samples, ), for example using ravel().\n",
      "  y = column_or_1d(y, dtype=self.classes_.dtype, warn=True)\n"
     ]
    },
    {
     "name": "stdout",
     "output_type": "stream",
     "text": [
      "Average infold validation accuracy:  LGBM 5 80.78\n",
      "[LightGBM] [Info] Number of positive: 3940, number of negative: 3884\n",
      "[LightGBM] [Info] Auto-choosing row-wise multi-threading, the overhead of testing was 0.000166 seconds.\n",
      "You can set `force_row_wise=true` to remove the overhead.\n",
      "And if memory is not enough, you can set `force_col_wise=true`.\n",
      "[LightGBM] [Info] Total Bins 1407\n",
      "[LightGBM] [Info] Number of data points in the train set: 7824, number of used features: 26\n",
      "[LightGBM] [Info] [binary:BoostFromScore]: pavg=0.503579 -> initscore=0.014315\n",
      "[LightGBM] [Info] Start training from score 0.014315\n"
     ]
    },
    {
     "name": "stderr",
     "output_type": "stream",
     "text": [
      "c:\\Users\\ivank\\OneDrive\\Desktop\\ML_module_1\\notebooks\\.venv\\Lib\\site-packages\\sklearn\\utils\\validation.py:2739: UserWarning: X does not have valid feature names, but LGBMClassifier was fitted with feature names\n",
      "  warnings.warn(\n",
      "c:\\Users\\ivank\\OneDrive\\Desktop\\ML_module_1\\notebooks\\.venv\\Lib\\site-packages\\sklearn\\utils\\validation.py:2739: UserWarning: X does not have valid feature names, but LGBMClassifier was fitted with feature names\n",
      "  warnings.warn(\n",
      "c:\\Users\\ivank\\OneDrive\\Desktop\\ML_module_1\\notebooks\\.venv\\Lib\\site-packages\\sklearn\\utils\\validation.py:2739: UserWarning: X does not have valid feature names, but LGBMClassifier was fitted with feature names\n",
      "  warnings.warn(\n",
      "c:\\Users\\ivank\\OneDrive\\Desktop\\ML_module_1\\notebooks\\.venv\\Lib\\site-packages\\sklearn\\utils\\validation.py:2739: UserWarning: X does not have valid feature names, but LGBMClassifier was fitted with feature names\n",
      "  warnings.warn(\n",
      "c:\\Users\\ivank\\OneDrive\\Desktop\\ML_module_1\\notebooks\\.venv\\Lib\\site-packages\\sklearn\\preprocessing\\_label.py:93: DataConversionWarning: A column-vector y was passed when a 1d array was expected. Please change the shape of y to (n_samples, ), for example using ravel().\n",
      "  y = column_or_1d(y, warn=True)\n",
      "c:\\Users\\ivank\\OneDrive\\Desktop\\ML_module_1\\notebooks\\.venv\\Lib\\site-packages\\sklearn\\preprocessing\\_label.py:129: DataConversionWarning: A column-vector y was passed when a 1d array was expected. Please change the shape of y to (n_samples, ), for example using ravel().\n",
      "  y = column_or_1d(y, dtype=self.classes_.dtype, warn=True)\n"
     ]
    },
    {
     "name": "stdout",
     "output_type": "stream",
     "text": [
      "Average infold validation accuracy:  LGBM 6 80.09\n",
      "[LightGBM] [Info] Number of positive: 3940, number of negative: 3884\n",
      "[LightGBM] [Info] Auto-choosing col-wise multi-threading, the overhead of testing was 0.000329 seconds.\n",
      "You can set `force_col_wise=true` to remove the overhead.\n",
      "[LightGBM] [Info] Total Bins 1407\n",
      "[LightGBM] [Info] Number of data points in the train set: 7824, number of used features: 26\n",
      "[LightGBM] [Info] [binary:BoostFromScore]: pavg=0.503579 -> initscore=0.014315\n",
      "[LightGBM] [Info] Start training from score 0.014315\n"
     ]
    },
    {
     "name": "stderr",
     "output_type": "stream",
     "text": [
      "c:\\Users\\ivank\\OneDrive\\Desktop\\ML_module_1\\notebooks\\.venv\\Lib\\site-packages\\sklearn\\utils\\validation.py:2739: UserWarning: X does not have valid feature names, but LGBMClassifier was fitted with feature names\n",
      "  warnings.warn(\n",
      "c:\\Users\\ivank\\OneDrive\\Desktop\\ML_module_1\\notebooks\\.venv\\Lib\\site-packages\\sklearn\\utils\\validation.py:2739: UserWarning: X does not have valid feature names, but LGBMClassifier was fitted with feature names\n",
      "  warnings.warn(\n",
      "c:\\Users\\ivank\\OneDrive\\Desktop\\ML_module_1\\notebooks\\.venv\\Lib\\site-packages\\sklearn\\utils\\validation.py:2739: UserWarning: X does not have valid feature names, but LGBMClassifier was fitted with feature names\n",
      "  warnings.warn(\n",
      "c:\\Users\\ivank\\OneDrive\\Desktop\\ML_module_1\\notebooks\\.venv\\Lib\\site-packages\\sklearn\\utils\\validation.py:2739: UserWarning: X does not have valid feature names, but LGBMClassifier was fitted with feature names\n",
      "  warnings.warn(\n",
      "c:\\Users\\ivank\\OneDrive\\Desktop\\ML_module_1\\notebooks\\.venv\\Lib\\site-packages\\sklearn\\preprocessing\\_label.py:93: DataConversionWarning: A column-vector y was passed when a 1d array was expected. Please change the shape of y to (n_samples, ), for example using ravel().\n",
      "  y = column_or_1d(y, warn=True)\n",
      "c:\\Users\\ivank\\OneDrive\\Desktop\\ML_module_1\\notebooks\\.venv\\Lib\\site-packages\\sklearn\\preprocessing\\_label.py:129: DataConversionWarning: A column-vector y was passed when a 1d array was expected. Please change the shape of y to (n_samples, ), for example using ravel().\n",
      "  y = column_or_1d(y, dtype=self.classes_.dtype, warn=True)\n"
     ]
    },
    {
     "name": "stdout",
     "output_type": "stream",
     "text": [
      "Average infold validation accuracy:  LGBM 7 79.63\n",
      "[LightGBM] [Info] Number of positive: 3940, number of negative: 3884\n",
      "[LightGBM] [Info] Auto-choosing col-wise multi-threading, the overhead of testing was 0.000299 seconds.\n",
      "You can set `force_col_wise=true` to remove the overhead.\n",
      "[LightGBM] [Info] Total Bins 1407\n",
      "[LightGBM] [Info] Number of data points in the train set: 7824, number of used features: 26\n",
      "[LightGBM] [Info] [binary:BoostFromScore]: pavg=0.503579 -> initscore=0.014315\n",
      "[LightGBM] [Info] Start training from score 0.014315\n"
     ]
    },
    {
     "name": "stderr",
     "output_type": "stream",
     "text": [
      "c:\\Users\\ivank\\OneDrive\\Desktop\\ML_module_1\\notebooks\\.venv\\Lib\\site-packages\\sklearn\\utils\\validation.py:2739: UserWarning: X does not have valid feature names, but LGBMClassifier was fitted with feature names\n",
      "  warnings.warn(\n",
      "c:\\Users\\ivank\\OneDrive\\Desktop\\ML_module_1\\notebooks\\.venv\\Lib\\site-packages\\sklearn\\utils\\validation.py:2739: UserWarning: X does not have valid feature names, but LGBMClassifier was fitted with feature names\n",
      "  warnings.warn(\n",
      "c:\\Users\\ivank\\OneDrive\\Desktop\\ML_module_1\\notebooks\\.venv\\Lib\\site-packages\\sklearn\\utils\\validation.py:2739: UserWarning: X does not have valid feature names, but LGBMClassifier was fitted with feature names\n",
      "  warnings.warn(\n",
      "c:\\Users\\ivank\\OneDrive\\Desktop\\ML_module_1\\notebooks\\.venv\\Lib\\site-packages\\sklearn\\utils\\validation.py:2739: UserWarning: X does not have valid feature names, but LGBMClassifier was fitted with feature names\n",
      "  warnings.warn(\n",
      "c:\\Users\\ivank\\OneDrive\\Desktop\\ML_module_1\\notebooks\\.venv\\Lib\\site-packages\\sklearn\\preprocessing\\_label.py:93: DataConversionWarning: A column-vector y was passed when a 1d array was expected. Please change the shape of y to (n_samples, ), for example using ravel().\n",
      "  y = column_or_1d(y, warn=True)\n",
      "c:\\Users\\ivank\\OneDrive\\Desktop\\ML_module_1\\notebooks\\.venv\\Lib\\site-packages\\sklearn\\preprocessing\\_label.py:129: DataConversionWarning: A column-vector y was passed when a 1d array was expected. Please change the shape of y to (n_samples, ), for example using ravel().\n",
      "  y = column_or_1d(y, dtype=self.classes_.dtype, warn=True)\n"
     ]
    },
    {
     "name": "stdout",
     "output_type": "stream",
     "text": [
      "Average infold validation accuracy:  LGBM 8 82.05\n",
      "[LightGBM] [Info] Number of positive: 3940, number of negative: 3884\n",
      "[LightGBM] [Info] Auto-choosing row-wise multi-threading, the overhead of testing was 0.000172 seconds.\n",
      "You can set `force_row_wise=true` to remove the overhead.\n",
      "And if memory is not enough, you can set `force_col_wise=true`.\n",
      "[LightGBM] [Info] Total Bins 1407\n",
      "[LightGBM] [Info] Number of data points in the train set: 7824, number of used features: 26\n",
      "[LightGBM] [Info] [binary:BoostFromScore]: pavg=0.503579 -> initscore=0.014315\n",
      "[LightGBM] [Info] Start training from score 0.014315\n",
      "Average infold validation accuracy:  LGBM 9 80.44\n",
      "80.46\n",
      "0.08333333333333333 2\n"
     ]
    },
    {
     "name": "stderr",
     "output_type": "stream",
     "text": [
      "c:\\Users\\ivank\\OneDrive\\Desktop\\ML_module_1\\notebooks\\.venv\\Lib\\site-packages\\sklearn\\utils\\validation.py:2739: UserWarning: X does not have valid feature names, but LGBMClassifier was fitted with feature names\n",
      "  warnings.warn(\n",
      "c:\\Users\\ivank\\OneDrive\\Desktop\\ML_module_1\\notebooks\\.venv\\Lib\\site-packages\\sklearn\\utils\\validation.py:2739: UserWarning: X does not have valid feature names, but LGBMClassifier was fitted with feature names\n",
      "  warnings.warn(\n",
      "c:\\Users\\ivank\\OneDrive\\Desktop\\ML_module_1\\notebooks\\.venv\\Lib\\site-packages\\sklearn\\utils\\validation.py:2739: UserWarning: X does not have valid feature names, but LGBMClassifier was fitted with feature names\n",
      "  warnings.warn(\n",
      "c:\\Users\\ivank\\OneDrive\\Desktop\\ML_module_1\\notebooks\\.venv\\Lib\\site-packages\\sklearn\\utils\\validation.py:2739: UserWarning: X does not have valid feature names, but LGBMClassifier was fitted with feature names\n",
      "  warnings.warn(\n"
     ]
    }
   ],
   "source": [
    "for key, classifier in classifiers.items():\n",
    "    start = time.time()\n",
    "\n",
    "    cv = StratifiedKFold(n_splits=FOLDS, shuffle=True, random_state=0)\n",
    "\n",
    "    score = 0\n",
    "    for fold, (train_idx, val_idx) in enumerate(cv.split(train, y)):\n",
    "        X_train, X_valid = train[train_idx], train[val_idx]\n",
    "        y_train, y_valid = y[train_idx], y[val_idx]\n",
    "\n",
    "        clf = classifier\n",
    "        clf.fit(X_train, y_train)\n",
    "\n",
    "        preds += clf.predict_proba(test)[:, 1]\n",
    "        preds_train += clf.predict_proba(train)[:, 1]\n",
    "        score += clf.score(X_valid, y_valid)\n",
    "        print(\"Average infold validation accuracy: \", key, fold, np.round(100 * clf.score(X_valid, y_valid), 2))\n",
    "        \n",
    "    score = score / FOLDS\n",
    "    stop = time.time()\n",
    "    print(np.round(100 * score, 2))\n",
    "    print(np.round(stop - start) / 60, 2)\n",
    "\n"
   ]
  },
  {
   "cell_type": "code",
   "execution_count": 179,
   "metadata": {},
   "outputs": [],
   "source": [
    "preds = preds / (FOLDS * len(classifiers))\n",
    "preds_train = preds_train / (FOLDS * len(classifiers))"
   ]
  },
  {
   "cell_type": "code",
   "execution_count": 180,
   "metadata": {},
   "outputs": [],
   "source": [
    "output = pd.DataFrame(\n",
    "    {\n",
    "        \"PassengerId\": test_y[\"PassengerId\"],\n",
    "        \"Transported\": (preds > 0.5)\n",
    "    }\n",
    ")\n",
    "output.to_csv(\"submission.csv\", index=False)"
   ]
  }
 ],
 "metadata": {
  "kernelspec": {
   "display_name": ".venv",
   "language": "python",
   "name": "python3"
  },
  "language_info": {
   "codemirror_mode": {
    "name": "ipython",
    "version": 3
   },
   "file_extension": ".py",
   "mimetype": "text/x-python",
   "name": "python",
   "nbconvert_exporter": "python",
   "pygments_lexer": "ipython3",
   "version": "3.13.2"
  }
 },
 "nbformat": 4,
 "nbformat_minor": 2
}
